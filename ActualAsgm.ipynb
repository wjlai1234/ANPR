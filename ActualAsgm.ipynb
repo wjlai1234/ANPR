{
 "cells": [
  {
   "cell_type": "code",
   "execution_count": null,
   "id": "70271043",
   "metadata": {
    "pycharm": {
     "name": "#%%\n",
     "is_executing": true
    }
   },
   "outputs": [
    {
     "name": "stdout",
     "output_type": "stream",
     "text": [
      " * Serving Flask app \"__main__\" (lazy loading)\n",
      " * Environment: production\n",
      "   WARNING: This is a development server. Do not use it in a production deployment.\n",
      "   Use a production WSGI server instead.\n",
      " * Debug mode: off\n"
     ]
    },
    {
     "name": "stderr",
     "output_type": "stream",
     "text": [
      " * Running on http://127.0.0.1:5000/ (Press CTRL+C to quit)\n",
      "127.0.0.1 - - [29/Mar/2022 06:16:26] \"GET /result HTTP/1.1\" 200 -\n"
     ]
    },
    {
     "name": "stdout",
     "output_type": "stream",
     "text": [
      "results/Cars0.png\n",
      "['results/Cars0.png']\n",
      "results/Cars1.png\n",
      "['results/Cars0.png', 'results/Cars1.png']\n",
      "results/Cars11.png\n",
      "['results/Cars0.png', 'results/Cars1.png', 'results/Cars11.png']\n",
      "results/Cars3.png\n",
      "['results/Cars0.png', 'results/Cars1.png', 'results/Cars11.png', 'results/Cars3.png']\n",
      "results/Cars4.png\n",
      "['results/Cars0.png', 'results/Cars1.png', 'results/Cars11.png', 'results/Cars3.png', 'results/Cars4.png']\n",
      "results/Cars6.png\n",
      "['results/Cars0.png', 'results/Cars1.png', 'results/Cars11.png', 'results/Cars3.png', 'results/Cars4.png', 'results/Cars6.png']\n"
     ]
    },
    {
     "name": "stderr",
     "output_type": "stream",
     "text": [
      "127.0.0.1 - - [29/Mar/2022 06:16:31] \"GET /test HTTP/1.1\" 200 -\n",
      "127.0.0.1 - - [29/Mar/2022 06:16:31] \"GET /uploads/ HTTP/1.1\" 404 -\n",
      "127.0.0.1 - - [29/Mar/2022 06:16:31] \"GET /results/ HTTP/1.1\" 404 -\n",
      "127.0.0.1 - - [29/Mar/2022 06:16:32] \"GET /result HTTP/1.1\" 200 -\n"
     ]
    },
    {
     "name": "stdout",
     "output_type": "stream",
     "text": [
      "results/Cars0.png\n",
      "['results/Cars0.png']\n",
      "results/Cars1.png\n",
      "['results/Cars0.png', 'results/Cars1.png']\n",
      "results/Cars11.png\n",
      "['results/Cars0.png', 'results/Cars1.png', 'results/Cars11.png']\n",
      "results/Cars3.png\n",
      "['results/Cars0.png', 'results/Cars1.png', 'results/Cars11.png', 'results/Cars3.png']\n",
      "results/Cars4.png\n",
      "['results/Cars0.png', 'results/Cars1.png', 'results/Cars11.png', 'results/Cars3.png', 'results/Cars4.png']\n",
      "results/Cars6.png\n",
      "['results/Cars0.png', 'results/Cars1.png', 'results/Cars11.png', 'results/Cars3.png', 'results/Cars4.png', 'results/Cars6.png']\n"
     ]
    },
    {
     "name": "stderr",
     "output_type": "stream",
     "text": [
      "127.0.0.1 - - [29/Mar/2022 06:16:33] \"GET /test HTTP/1.1\" 200 -\n",
      "127.0.0.1 - - [29/Mar/2022 06:16:33] \"GET /uploads/ HTTP/1.1\" 404 -\n",
      "127.0.0.1 - - [29/Mar/2022 06:16:33] \"GET /results/ HTTP/1.1\" 404 -\n",
      "[2022-03-29 06:16:34,545] ERROR in app: Exception on /upload-image [POST]\n",
      "Traceback (most recent call last):\n",
      "  File \"D:\\Anaconda3\\lib\\site-packages\\flask\\app.py\", line 2447, in wsgi_app\n",
      "    response = self.full_dispatch_request()\n",
      "  File \"D:\\Anaconda3\\lib\\site-packages\\flask\\app.py\", line 1952, in full_dispatch_request\n",
      "    rv = self.handle_user_exception(e)\n",
      "  File \"D:\\Anaconda3\\lib\\site-packages\\flask\\app.py\", line 1821, in handle_user_exception\n",
      "    reraise(exc_type, exc_value, tb)\n",
      "  File \"D:\\Anaconda3\\lib\\site-packages\\flask\\_compat.py\", line 39, in reraise\n",
      "    raise value\n",
      "  File \"D:\\Anaconda3\\lib\\site-packages\\flask\\app.py\", line 1950, in full_dispatch_request\n",
      "    rv = self.dispatch_request()\n",
      "  File \"D:\\Anaconda3\\lib\\site-packages\\flask\\app.py\", line 1936, in dispatch_request\n",
      "    return self.view_functions[rule.endpoint](**req.view_args)\n",
      "  File \"C:\\Users\\CAYDEN~1\\AppData\\Local\\Temp/ipykernel_23736/3362922333.py\", line 91, in upload_image\n",
      "    image.save(os.path.join(app.config[\"IMAGE_UPLOADS\"], image.filename))\n",
      "  File \"D:\\Anaconda3\\lib\\site-packages\\werkzeug\\datastructures.py\", line 3021, in save\n",
      "    dst = open(dst, \"wb\")\n",
      "PermissionError: [Errno 13] Permission denied: 'D:/github/ANPRwithPython/Upload/'\n",
      "127.0.0.1 - - [29/Mar/2022 06:16:34] \"POST /upload-image HTTP/1.1\" 500 -\n",
      "CUDA not available - defaulting to CPU. Note: This module is much faster with a GPU.\n"
     ]
    },
    {
     "name": "stdout",
     "output_type": "stream",
     "text": [
      "Route.ImageName:Cars3.png\n",
      "anpr.upload img:Cars3.png\n"
     ]
    },
    {
     "name": "stderr",
     "output_type": "stream",
     "text": [
      "127.0.0.1 - - [29/Mar/2022 06:16:42] \"POST /upload-image HTTP/1.1\" 200 -\n"
     ]
    },
    {
     "name": "stdout",
     "output_type": "stream",
     "text": [
      "anpr.save:None\n"
     ]
    },
    {
     "name": "stderr",
     "output_type": "stream",
     "text": [
      "127.0.0.1 - - [29/Mar/2022 06:16:42] \"GET /result HTTP/1.1\" 200 -\n"
     ]
    },
    {
     "name": "stdout",
     "output_type": "stream",
     "text": [
      "results/Cars0.png\n",
      "['results/Cars0.png']\n",
      "results/Cars1.png\n",
      "['results/Cars0.png', 'results/Cars1.png']\n",
      "results/Cars11.png\n",
      "['results/Cars0.png', 'results/Cars1.png', 'results/Cars11.png']\n",
      "results/Cars3.png\n",
      "['results/Cars0.png', 'results/Cars1.png', 'results/Cars11.png', 'results/Cars3.png']\n",
      "results/Cars4.png\n",
      "['results/Cars0.png', 'results/Cars1.png', 'results/Cars11.png', 'results/Cars3.png', 'results/Cars4.png']\n",
      "results/Cars6.png\n",
      "['results/Cars0.png', 'results/Cars1.png', 'results/Cars11.png', 'results/Cars3.png', 'results/Cars4.png', 'results/Cars6.png']\n"
     ]
    },
    {
     "name": "stderr",
     "output_type": "stream",
     "text": [
      "127.0.0.1 - - [29/Mar/2022 06:16:48] \"GET /test HTTP/1.1\" 200 -\n",
      "127.0.0.1 - - [29/Mar/2022 06:16:48] \"GET /uploads/ HTTP/1.1\" 404 -\n",
      "127.0.0.1 - - [29/Mar/2022 06:16:48] \"GET /results/ HTTP/1.1\" 404 -\n",
      "CUDA not available - defaulting to CPU. Note: This module is much faster with a GPU.\n"
     ]
    },
    {
     "name": "stdout",
     "output_type": "stream",
     "text": [
      "Route.ImageName:Cars4.png\n",
      "anpr.upload img:Cars4.png\n"
     ]
    },
    {
     "name": "stderr",
     "output_type": "stream",
     "text": [
      "127.0.0.1 - - [29/Mar/2022 06:16:54] \"POST /upload-image HTTP/1.1\" 200 -\n"
     ]
    },
    {
     "name": "stdout",
     "output_type": "stream",
     "text": [
      "anpr.save:None\n"
     ]
    },
    {
     "name": "stderr",
     "output_type": "stream",
     "text": [
      "127.0.0.1 - - [29/Mar/2022 06:16:56] \"GET /result HTTP/1.1\" 200 -\n"
     ]
    },
    {
     "name": "stdout",
     "output_type": "stream",
     "text": [
      "results/Cars0.png\n",
      "['results/Cars0.png']\n",
      "results/Cars1.png\n",
      "['results/Cars0.png', 'results/Cars1.png']\n",
      "results/Cars11.png\n",
      "['results/Cars0.png', 'results/Cars1.png', 'results/Cars11.png']\n",
      "results/Cars3.png\n",
      "['results/Cars0.png', 'results/Cars1.png', 'results/Cars11.png', 'results/Cars3.png']\n",
      "results/Cars4.png\n",
      "['results/Cars0.png', 'results/Cars1.png', 'results/Cars11.png', 'results/Cars3.png', 'results/Cars4.png']\n",
      "results/Cars6.png\n",
      "['results/Cars0.png', 'results/Cars1.png', 'results/Cars11.png', 'results/Cars3.png', 'results/Cars4.png', 'results/Cars6.png']\n"
     ]
    },
    {
     "name": "stderr",
     "output_type": "stream",
     "text": [
      "127.0.0.1 - - [29/Mar/2022 06:17:00] \"GET /test HTTP/1.1\" 200 -\n",
      "127.0.0.1 - - [29/Mar/2022 06:17:00] \"GET /uploads/ HTTP/1.1\" 404 -\n",
      "127.0.0.1 - - [29/Mar/2022 06:17:00] \"GET /results/ HTTP/1.1\" 404 -\n",
      "CUDA not available - defaulting to CPU. Note: This module is much faster with a GPU.\n"
     ]
    },
    {
     "name": "stdout",
     "output_type": "stream",
     "text": [
      "Route.ImageName:Cars6.png\n",
      "anpr.upload img:Cars6.png\n"
     ]
    },
    {
     "name": "stderr",
     "output_type": "stream",
     "text": [
      "127.0.0.1 - - [29/Mar/2022 06:17:17] \"POST /upload-image HTTP/1.1\" 200 -\n"
     ]
    },
    {
     "name": "stdout",
     "output_type": "stream",
     "text": [
      "anpr.save:None\n"
     ]
    },
    {
     "name": "stderr",
     "output_type": "stream",
     "text": [
      "127.0.0.1 - - [29/Mar/2022 06:17:22] \"GET /result HTTP/1.1\" 200 -\n"
     ]
    },
    {
     "name": "stdout",
     "output_type": "stream",
     "text": [
      "results/Cars0.png\n",
      "['results/Cars0.png']\n",
      "results/Cars1.png\n",
      "['results/Cars0.png', 'results/Cars1.png']\n",
      "results/Cars11.png\n",
      "['results/Cars0.png', 'results/Cars1.png', 'results/Cars11.png']\n",
      "results/Cars3.png\n",
      "['results/Cars0.png', 'results/Cars1.png', 'results/Cars11.png', 'results/Cars3.png']\n",
      "results/Cars4.png\n",
      "['results/Cars0.png', 'results/Cars1.png', 'results/Cars11.png', 'results/Cars3.png', 'results/Cars4.png']\n",
      "results/Cars6.png\n",
      "['results/Cars0.png', 'results/Cars1.png', 'results/Cars11.png', 'results/Cars3.png', 'results/Cars4.png', 'results/Cars6.png']\n"
     ]
    },
    {
     "name": "stderr",
     "output_type": "stream",
     "text": [
      "127.0.0.1 - - [29/Mar/2022 06:17:24] \"GET /test HTTP/1.1\" 200 -\n",
      "127.0.0.1 - - [29/Mar/2022 06:17:24] \"GET /uploads/ HTTP/1.1\" 404 -\n",
      "127.0.0.1 - - [29/Mar/2022 06:17:24] \"GET /results/ HTTP/1.1\" 404 -\n",
      "127.0.0.1 - - [29/Mar/2022 06:17:26] \"GET /result HTTP/1.1\" 200 -\n"
     ]
    },
    {
     "name": "stdout",
     "output_type": "stream",
     "text": [
      "results/Cars0.png\n",
      "['results/Cars0.png']\n",
      "results/Cars1.png\n",
      "['results/Cars0.png', 'results/Cars1.png']\n",
      "results/Cars11.png\n",
      "['results/Cars0.png', 'results/Cars1.png', 'results/Cars11.png']\n",
      "results/Cars3.png\n",
      "['results/Cars0.png', 'results/Cars1.png', 'results/Cars11.png', 'results/Cars3.png']\n",
      "results/Cars4.png\n",
      "['results/Cars0.png', 'results/Cars1.png', 'results/Cars11.png', 'results/Cars3.png', 'results/Cars4.png']\n",
      "results/Cars6.png\n",
      "['results/Cars0.png', 'results/Cars1.png', 'results/Cars11.png', 'results/Cars3.png', 'results/Cars4.png', 'results/Cars6.png']\n"
     ]
    },
    {
     "name": "stderr",
     "output_type": "stream",
     "text": [
      "127.0.0.1 - - [29/Mar/2022 06:17:42] \"GET /home HTTP/1.1\" 200 -\n",
      "127.0.0.1 - - [29/Mar/2022 06:17:45] \"GET /test HTTP/1.1\" 200 -\n",
      "127.0.0.1 - - [29/Mar/2022 06:17:45] \"GET /uploads/ HTTP/1.1\" 404 -\n",
      "127.0.0.1 - - [29/Mar/2022 06:17:45] \"GET /results/ HTTP/1.1\" 404 -\n",
      "127.0.0.1 - - [29/Mar/2022 06:17:46] \"GET /result HTTP/1.1\" 200 -\n"
     ]
    },
    {
     "name": "stdout",
     "output_type": "stream",
     "text": [
      "results/Cars0.png\n",
      "['results/Cars0.png']\n",
      "results/Cars1.png\n",
      "['results/Cars0.png', 'results/Cars1.png']\n",
      "results/Cars11.png\n",
      "['results/Cars0.png', 'results/Cars1.png', 'results/Cars11.png']\n",
      "results/Cars3.png\n",
      "['results/Cars0.png', 'results/Cars1.png', 'results/Cars11.png', 'results/Cars3.png']\n",
      "results/Cars4.png\n",
      "['results/Cars0.png', 'results/Cars1.png', 'results/Cars11.png', 'results/Cars3.png', 'results/Cars4.png']\n",
      "results/Cars6.png\n",
      "['results/Cars0.png', 'results/Cars1.png', 'results/Cars11.png', 'results/Cars3.png', 'results/Cars4.png', 'results/Cars6.png']\n"
     ]
    }
   ],
   "source": [
    "import cv2\n",
    "from matplotlib import pyplot as plt\n",
    "import numpy as np\n",
    "import imutils\n",
    "import easyocr\n",
    "\n",
    "def anpr(upload_img):\n",
    "    #step1\n",
    "    # matplotlib interprets images in RGB format, but OpenCV uses BGR format\n",
    "    # so to convert the image so that it's properly loaded, convert it before loading\n",
    "    img = cv2.imread(f\"Upload/{upload_img}\")\n",
    "    print(f'anpr.upload img:{upload_img}')\n",
    "    gray = cv2.cvtColor(img, cv2.COLOR_BGR2GRAY)\n",
    "    # plt.imshow(cv2.cvtColor(gray, cv2.COLOR_BGR2RGB))\n",
    "\n",
    "    #step2\n",
    "    bfilter = cv2.bilateralFilter(gray, 11, 17, 17) #Noise reduction\n",
    "    edged = cv2.Canny(bfilter, 30, 200) #Edge detection\n",
    "    # plt.imshow(cv2.cvtColor(edged, cv2.COLOR_BGR2RGB))\n",
    "\n",
    "    #step3\n",
    "    keypoints = cv2.findContours(edged.copy(), cv2.RETR_TREE, cv2.CHAIN_APPROX_SIMPLE)\n",
    "    contours = imutils.grab_contours(keypoints)\n",
    "    contours = sorted(contours, key=cv2.contourArea, reverse=True)[:10]\n",
    "\n",
    "        #location\n",
    "    location = None\n",
    "    for contour in contours:\n",
    "        approx = cv2.approxPolyDP(contour, 10, True)\n",
    "        if len(approx) == 4:\n",
    "             location = approx\n",
    "             break\n",
    "    # print(location)\n",
    "    mask = np.zeros(gray.shape, np.uint8)\n",
    "    new_image = cv2.drawContours(mask, [location], 0,255, -1)\n",
    "    new_image = cv2.bitwise_and(img, img, mask=mask)\n",
    "    # plt.imshow(cv2.cvtColor(new_image, cv2.COLOR_BGR2RGB))\n",
    "\n",
    "        #crop_image\n",
    "    (x,y) = np.where(mask==255)\n",
    "    (x1, y1) = (np.min(x), np.min(y))\n",
    "    (x2, y2) = (np.max(x), np.max(y))\n",
    "    cropped_image = gray[x1:x2+1, y1:y2+1]\n",
    "    # plt.imshow(cv2.cvtColor(cropped_image, cv2.COLOR_BGR2RGB))\n",
    "\n",
    "    #step4\n",
    "    reader = easyocr.Reader(['en'])\n",
    "    result = reader.readtext(cropped_image)\n",
    "\n",
    "    #step5\n",
    "    text = result[0][-2]\n",
    "    font = cv2.FONT_HERSHEY_SIMPLEX\n",
    "    res = cv2.putText(img, text=text, org=(approx[0][0][0], approx[1][0][1]+60), fontFace=font, fontScale=1, color=(0,255,0), thickness=2, lineType=cv2.LINE_AA)\n",
    "    res = cv2.rectangle(img, tuple(approx[0][0]), tuple(approx[2][0]), (0,255,0),3)\n",
    "    plt.imshow(cv2.cvtColor(res, cv2.COLOR_BGR2RGB))\n",
    "    plt.savefig(f\"Results/{upload_img}\")\n",
    "    print(f'anpr.save:{ plt.savefig(f\"Results/{upload_img}\")}')\n",
    "    return text\n",
    "\n",
    "\n",
    "import os\n",
    "import pytesseract\n",
    "pytesseract.pytesseract.tesseract_cmd = r\"D:\\tesseract\\tesseract.exe\"\n",
    "from flask import Flask, render_template, redirect,url_for, request, redirect, jsonify, Response\n",
    "import requests\n",
    "app = Flask(__name__)\n",
    "app.config[\"IMAGE_UPLOADS\"] = \"D:/github/ANPRwithPython/Upload/\"\n",
    "app.config[\"IMAGE_RESULTS\"] = \"D:/github/ANPRwithPython/Results/\"\n",
    "\n",
    "\n",
    "@app.route(\"/\")\n",
    "@app.route(\"/home\")\n",
    "def home():\n",
    "    return render_template(\"home.html\")\n",
    "\n",
    "@app.route(\"/test\")\n",
    "def test():\n",
    "    return render_template(\"test.html\")\n",
    "\n",
    "# Pokemons =[\"Pikachu\", \"Charizard\", \"Squirtle\", \"Jigglypuff\",\n",
    "#            \"Bulbasaur\", \"Gengar\", \"Charmander\", \"Mew\", \"Lugia\", \"Gyarados\"]\n",
    "# @app.route(\"/result\")\n",
    "# def result():\n",
    "#     return render_template(\"result.html\",len = len(Pokemons), Pokemons = Pokemons)\n",
    "\n",
    "@app.route('/upload-image', methods=['GET', 'POST'])\n",
    "def upload_image():\n",
    "    if request.method == \"POST\":\n",
    "        if request.files:\n",
    "            image = request.files[\"img\"]\n",
    "            image.save(os.path.join(app.config[\"IMAGE_UPLOADS\"], image.filename))\n",
    "            print(f\"Route.ImageName:{image.filename}\")\n",
    "            text = anpr(image.filename)\n",
    "\n",
    "            # Open a file with access mode 'a'\n",
    "            file_object = open(f'texts/text.txt', 'a')\n",
    "            # Append 'hello' at the end of file\n",
    "            file_object.write(f'results/{image.filename}:{text}\\n')\n",
    "\n",
    "            # Close the file\n",
    "            file_object.close()\n",
    "\n",
    "            return render_template(\"test.html\", uploaded_image=image.filename, results_image=image.filename,result= text)\n",
    "    return render_template(\"test.html\")\n",
    "\n",
    "\n",
    "@app.route('/uploads/<filename>')\n",
    "def send_uploaded_file(filename=''):\n",
    "    from flask import send_from_directory\n",
    "    return send_from_directory(app.config[\"IMAGE_UPLOADS\"], filename)\n",
    "\n",
    "@app.route('/results/<filename>')\n",
    "def send_result_file(filename=''):\n",
    "    from flask import send_from_directory\n",
    "    return send_from_directory(app.config[\"IMAGE_RESULTS\"], filename)\n",
    "\n",
    "@app.route('/result')\n",
    "def detection():\n",
    "\n",
    "    with open('texts/text.txt') as event_log:\n",
    "        event_lines = event_log.readlines()\n",
    "\n",
    "        results = []\n",
    "        events = len(event_lines)\n",
    "\n",
    "        for x in range(events):\n",
    "            results.append(event_lines[x].split(\":\"))\n",
    "        #print()\n",
    "\n",
    "\n",
    "    basepath = f\"results\"\n",
    "    dir = os.walk(basepath)\n",
    "    file_list = []\n",
    "\n",
    "    for path, subdirs, files in dir:\n",
    "        for file in files:\n",
    "            temp = os.path.join(path + '/', file)\n",
    "            print(temp)\n",
    "            file_list.append(temp)\n",
    "            print(file_list)\n",
    "    return render_template('result.html', len = len(file_list), hists=file_list,events=events, results=results)\n",
    "\n",
    "\n",
    "if __name__ == '__main__':\n",
    "    app.run()"
   ]
  },
  {
   "cell_type": "code",
   "execution_count": null,
   "outputs": [],
   "source": [],
   "metadata": {
    "collapsed": false,
    "pycharm": {
     "name": "#%%\n"
    }
   }
  }
 ],
 "metadata": {
  "kernelspec": {
   "display_name": "Python 3 (ipykernel)",
   "language": "python",
   "name": "python3"
  },
  "language_info": {
   "codemirror_mode": {
    "name": "ipython",
    "version": 3
   },
   "file_extension": ".py",
   "mimetype": "text/x-python",
   "name": "python",
   "nbconvert_exporter": "python",
   "pygments_lexer": "ipython3",
   "version": "3.9.7"
  }
 },
 "nbformat": 4,
 "nbformat_minor": 5
}